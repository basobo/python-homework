{
 "cells": [
  {
   "cell_type": "code",
   "execution_count": 25,
   "metadata": {},
   "outputs": [],
   "source": [
    "# Import Library\n",
    "import numpy as np\n",
    "import pandas as pd\n",
    "import csv\n",
    "import os\n",
    "%matplotlib inline"
   ]
  },
  {
   "cell_type": "code",
   "execution_count": 26,
   "metadata": {},
   "outputs": [],
   "source": [
    "# load the dataset\n",
    "df=pd.read_csv(\"budget_data.csv\")"
   ]
  },
  {
   "cell_type": "code",
   "execution_count": 27,
   "metadata": {},
   "outputs": [],
   "source": [
    "#create import lists for the CSV data\n",
    "month_list = []\n",
    "profit_loss_list = []"
   ]
  },
  {
   "cell_type": "code",
   "execution_count": 37,
   "metadata": {},
   "outputs": [],
   "source": [
    "# import the csv file\n",
    "# with open('budget_data.csv') as csv_file:\n",
    "#     data = csv.reader(csv_file, delimiter=',')\n",
    "#     for row in data:\n",
    "#         print(row)\n",
    "\n",
    "month_list = []\n",
    "profit_loss_list = []\n",
    "\n",
    "with open('budget_data.csv') as csv_file:\n",
    "    csv_reader = csv.reader(csv_file)\n",
    "    next(csv_reader)\n",
    "    \n",
    "    for row in csv_reader:\n",
    "        month_list.append(str(row[0]))\n",
    "        profit_loss_list.append(int(row[1]))\n",
    "\n",
    "\n"
   ]
  },
  {
   "cell_type": "code",
   "execution_count": 38,
   "metadata": {},
   "outputs": [],
   "source": [
    "# the total number of months included in the dataset.\n",
    "total_months = len(month_list)"
   ]
  },
  {
   "cell_type": "code",
   "execution_count": 39,
   "metadata": {},
   "outputs": [],
   "source": [
    "# the net profit/loss\n",
    "net_profit_loss = 0\n",
    "\n",
    "for x in profit_loss_list:\n",
    "    net_profit_loss = net_profit_loss + x\n"
   ]
  },
  {
   "cell_type": "code",
   "execution_count": 40,
   "metadata": {},
   "outputs": [],
   "source": [
    "# the average profit/loss\n",
    "average_monthly_change_list = []\n",
    "previous_month_amount = 0\n",
    "\n",
    "for x in range(len(profit_loss_list)):\n",
    "    if x == 0:\n",
    "        previous_month_amount = profit_loss_list[x]\n",
    "    else:\n",
    "        monthly_change = profit_loss_list[x] - previous_month_amount\n",
    "        average_monthly_change_list.append(monthly_change)\n",
    "        previous_month_amount = profit_loss_list[x]\n",
    "\n"
   ]
  },
  {
   "cell_type": "code",
   "execution_count": 41,
   "metadata": {},
   "outputs": [
    {
     "name": "stdout",
     "output_type": "stream",
     "text": [
      "-2315.1176470588234\n"
     ]
    }
   ],
   "source": [
    "#print(average_monthly_change_list)\n",
    "\n",
    "length = len(average_monthly_change_list)\n",
    "total = sum(average_monthly_change_list)\n",
    "profit_loss_average = total / length\n",
    "print(profit_loss_average)\n"
   ]
  },
  {
   "cell_type": "code",
   "execution_count": 42,
   "metadata": {},
   "outputs": [],
   "source": [
    "# the min and max profit/loss and corresponding month\n",
    "month_greatest_increase = ''\n",
    "amount_greatest_increase = 0\n",
    "month_greatest_decrease = ''\n",
    "amount_greatest_decrease = 0\n",
    "\n",
    "for x in range(len(average_monthly_change_list)):\n",
    "    if average_monthly_change_list[x] > amount_greatest_increase:\n",
    "        amount_greatest_increase = average_monthly_change_list[x]\n",
    "        month_greatest_increase = month_list[x+1]\n",
    "    elif average_monthly_change_list[x] < amount_greatest_decrease:\n",
    "        amount_greatest_decrease = average_monthly_change_list[x]\n",
    "        month_greatest_decrease = month_list[x+1]\n"
   ]
  },
  {
   "cell_type": "code",
   "execution_count": 43,
   "metadata": {},
   "outputs": [
    {
     "name": "stdout",
     "output_type": "stream",
     "text": [
      "There are 86 months included in the dataset.\n",
      "The total Profit/Loss over the entire period was $38382578.\n",
      "The average of the changes in Profit/Loss over the entire period was -2315.1176470588234.\n",
      "The greatest increase in profits over the entire period was in Feb-2012 for $1926159.\n",
      " The greatest decrease in losses over the entire period was in Sep-2013 for $-2196167.\n"
     ]
    }
   ],
   "source": [
    "# The total number of months included in the dataset\n",
    "print(f'There are {total_months} months included in the dataset.')\n",
    "\n",
    "# The net total amount of \"Profit/Losses\" over the entire period\n",
    "print(f'The total Profit/Loss over the entire period was ${net_profit_loss}.')\n",
    "\n",
    "# The average of the changes in \"Profit/Losses\" over the entire period\n",
    "print(f'The average of the changes in Profit/Loss over the entire period was {profit_loss_average}.')\n",
    "\n",
    "# The greatest increase in profits (date and amount) over the entire period\n",
    "print(f'The greatest increase in profits over the entire period was in {month_greatest_increase} for ${amount_greatest_increase}.')\n",
    "\n",
    "# The greatest decrease in losses (date and amount) over the entire period\n",
    "print(f' The greatest decrease in losses over the entire period was in {month_greatest_decrease} for ${amount_greatest_decrease}.')\n"
   ]
  }
 ],
 "metadata": {
  "kernelspec": {
   "display_name": "Python 3",
   "language": "python",
   "name": "python3"
  },
  "language_info": {
   "codemirror_mode": {
    "name": "ipython",
    "version": 3
   },
   "file_extension": ".py",
   "mimetype": "text/x-python",
   "name": "python",
   "nbconvert_exporter": "python",
   "pygments_lexer": "ipython3",
   "version": "3.7.6"
  }
 },
 "nbformat": 4,
 "nbformat_minor": 4
}
